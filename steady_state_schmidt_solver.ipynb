{
 "metadata": {
  "language_info": {
   "codemirror_mode": {
    "name": "ipython",
    "version": 3
   },
   "file_extension": ".py",
   "mimetype": "text/x-python",
   "name": "python",
   "nbconvert_exporter": "python",
   "pygments_lexer": "ipython3",
   "version": "3.9.1-final"
  },
  "orig_nbformat": 2,
  "kernelspec": {
   "name": "python3",
   "display_name": "Python 3.9.1 64-bit ('gsc')",
   "metadata": {
    "interpreter": {
     "hash": "cbe6b3d6fe943de2e68ff613450473012d40f161d3678f9c60d1eeb8f9856c25"
    }
   }
  }
 },
 "nbformat": 4,
 "nbformat_minor": 2,
 "cells": [
  {
   "source": [
    "# Schmidt Steady State Seepage Calculator\n",
    "### Schmidt, C., Conant Jr, B., Bayer-Raich, M. and Schirmer, M., 2007. Evaluation and field-scale application of an analytical method to quantify groundwater discharge using mapped streambed temperatures. Journal of Hydrology, 347(3–4): 292-307. \n",
    "This notebook utilizes steady-state sediment temperature profile to estimate groundwater seepage flux. Users are encouraged to familiarize with the theory beforehand. The only assumed parameters in the steady-state models are volumetric heat capacity of water (ρfcf) and thermal conductivity (k) of the saturated porous media. Please look up the worksheet - \"Parameter Metadata\" for applicable parameter values."
   ],
   "cell_type": "markdown",
   "metadata": {}
  },
  {
   "cell_type": "code",
   "execution_count": 10,
   "metadata": {},
   "outputs": [],
   "source": [
    "from numpy import log\n",
    "from scipy.optimize import fsolve\n",
    "\n",
    "conductivity = 0.70 \n",
    "heat_capacity = 4190000\n",
    "sed_temp_shallow = 25.36 \n",
    "sed_temp_mid = 16.11 \n",
    "sed_temp_const = 12.98 \n",
    "shallow_mid_dist = 0.45 \n",
    "\n",
    "expected = 0.0441 "
   ]
  },
  {
   "cell_type": "code",
   "execution_count": 11,
   "metadata": {},
   "outputs": [
    {
     "output_type": "stream",
     "name": "stdout",
     "text": [
      "Expected: 0.0441\nActual:   0.04410659210202143\n"
     ]
    }
   ],
   "source": [
    "qz = -86400 * (conductivity / (heat_capacity * shallow_mid_dist)) * log((sed_temp_mid - sed_temp_const) / (sed_temp_shallow - sed_temp_const))\n",
    "\n",
    "print(f\"Expected: {expected}\")\n",
    "print(f\"Actual:   {qz}\")"
   ]
  },
  {
   "cell_type": "code",
   "execution_count": null,
   "metadata": {},
   "outputs": [],
   "source": []
  }
 ]
}