{
 "metadata": {
  "language_info": {
   "codemirror_mode": {
    "name": "ipython",
    "version": 3
   },
   "file_extension": ".py",
   "mimetype": "text/x-python",
   "name": "python",
   "nbconvert_exporter": "python",
   "pygments_lexer": "ipython3",
   "version": "3.6.8-final"
  },
  "orig_nbformat": 2,
  "kernelspec": {
   "name": "python3",
   "display_name": "Python 3.6.8 64-bit ('py36')",
   "metadata": {
    "interpreter": {
     "hash": "45f536c0e21fd8725fbeecd893309b3538600ae7f113299d7eed5067192f4ecc"
    }
   }
  }
 },
 "nbformat": 4,
 "nbformat_minor": 2,
 "cells": [
  {
   "source": [
    "# Schmidt Steady State Seepage Calculator\n",
    "### Schmidt, C., Conant Jr, B., Bayer-Raich, M. and Schirmer, M., 2007. Evaluation and field-scale application of an analytical method to quantify groundwater discharge using mapped streambed temperatures. Journal of Hydrology, 347(3–4): 292-307. \n",
    "This notebook utilizes steady-state sediment temperature profile to estimate groundwater seepage flux. Users are encouraged to familiarize with the theory beforehand. The only assumed parameters in the steady-state models are volumetric heat capacity of water (ρfcf) and thermal conductivity (k) of the saturated porous media. Please look up the worksheet - \"Parameter Metadata\" for applicable parameter values."
   ],
   "cell_type": "markdown",
   "metadata": {}
  },
  {
   "cell_type": "code",
   "execution_count": null,
   "metadata": {},
   "outputs": [],
   "source": [
    "from numpy import log\n",
    "from scipy.optimize import fsolve\n",
    "\n",
    "conductivity = 0.70 \n",
    "heat_capacity = 4190000\n",
    "sed_temp_shallow = 25.36 \n",
    "sed_temp_mid = 16.11 \n",
    "sed_temp_const = 12.98 \n",
    "shallow_mid_dist = 0.45 \n",
    "\n",
    "expected = 0.0441 "
   ]
  },
  {
   "cell_type": "code",
   "execution_count": null,
   "metadata": {},
   "outputs": [],
   "source": [
    "qz = -86400 * (conductivity / (heat_capacity * shallow_mid_dist)) * log((sed_temp_mid - sed_temp_const) / (sed_temp_shallow - sed_temp_const))\n",
    "\n",
    "print(f\"Expected: {expected}\")\n",
    "print(f\"Actual:   {qz}\")"
   ]
  },
  {
   "cell_type": "code",
   "execution_count": null,
   "metadata": {},
   "outputs": [],
   "source": []
  }
 ]
}