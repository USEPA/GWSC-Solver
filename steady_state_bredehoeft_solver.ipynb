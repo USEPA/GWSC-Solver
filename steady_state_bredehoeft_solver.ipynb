{
 "metadata": {
  "language_info": {
   "codemirror_mode": {
    "name": "ipython",
    "version": 3
   },
   "file_extension": ".py",
   "mimetype": "text/x-python",
   "name": "python",
   "nbconvert_exporter": "python",
   "pygments_lexer": "ipython3",
   "version": "3.6.8-final"
  },
  "orig_nbformat": 2,
  "kernelspec": {
   "name": "python3",
   "display_name": "Python 3.6.8 64-bit ('py36')",
   "metadata": {
    "interpreter": {
     "hash": "45f536c0e21fd8725fbeecd893309b3538600ae7f113299d7eed5067192f4ecc"
    }
   }
  }
 },
 "nbformat": 4,
 "nbformat_minor": 2,
 "cells": [
  {
   "source": [
    "# Bredehoeft Steady State Seepage Calculator\n",
    "### Bredehoeft, J.D. and Papadopulos, I.S., 1965. Rates of vertical groundwater movement estimated from the Earth's thermal profile. Water Resour. Res., 1(2): 325-328\n",
    "This notebook utilizes steady-state sediment temperature profile to estimate groundwater seepage flux. Users are encouraged to familiarize with the theory beforehand. The only assumed parameters in the steady-state models are volumetric heat capacity of water (ρfcf) and thermal conductivity (k) of the saturated porous media. Please look up the worksheet - \"Parameter Metadata\" for applicable parameter values."
   ],
   "cell_type": "markdown",
   "metadata": {}
  },
  {
   "cell_type": "code",
   "execution_count": null,
   "metadata": {},
   "outputs": [],
   "source": [
    "from numpy import exp\n",
    "from scipy.optimize import fsolve\n",
    "\n",
    "conductivity = 1.56\n",
    "heat_capacity = 4190000\n",
    "sed_temp_shallow = 19.87\n",
    "sed_temp_mid = 17.53\n",
    "sed_temp_deep = 16.21\n",
    "shallow_mid_dist = 0.3\n",
    "mid_deep_dist = 0.7\n",
    "\n",
    "expected = 0.0807\n",
    "\n",
    "estimate = 1"
   ]
  },
  {
   "cell_type": "code",
   "execution_count": null,
   "metadata": {},
   "outputs": [],
   "source": [
    "func = lambda x: ((sed_temp_mid - sed_temp_shallow) / (sed_temp_deep - sed_temp_shallow) - (\n",
    "            (exp(x * (shallow_mid_dist / mid_deep_dist)) - 1) / (exp(x) - 1)))"
   ]
  },
  {
   "cell_type": "code",
   "execution_count": null,
   "metadata": {},
   "outputs": [],
   "source": [
    "solve_solution = fsolve(func, estimate)"
   ]
  },
  {
   "cell_type": "code",
   "execution_count": null,
   "metadata": {},
   "outputs": [],
   "source": [
    "print(len(solve_solution))\n",
    "if len(solve_solution) == 1:\n",
    "    C27 = solve_solution[0]\n",
    "    qz = (-1 * conductivity * C27 * 86400) / (heat_capacity * mid_deep_dist)\n",
    "    print(f\"Expected: {expected}\")\n",
    "    print(f\"Actual:   {qz}\")"
   ]
  },
  {
   "cell_type": "code",
   "execution_count": null,
   "metadata": {},
   "outputs": [],
   "source": []
  }
 ]
}